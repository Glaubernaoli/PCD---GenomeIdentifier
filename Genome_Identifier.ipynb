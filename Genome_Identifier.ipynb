{
 "cells": [
  {
   "cell_type": "markdown",
   "id": "f4203587",
   "metadata": {},
   "source": [
    "# Genome Identifier\n",
    "\n",
    "### Identificador de aminoácidos por uma sequência de nucleotídeos e plotagem de gráficos quantitativos"
   ]
  },
  {
   "cell_type": "code",
   "execution_count": 6,
   "id": "c8039e4a",
   "metadata": {},
   "outputs": [],
   "source": [
    "# Definições de códons associados a proteínas.\n",
    "\n",
    "codons = {\n",
    "    'GCU': 'A', #alanine\n",
    "    'GCC': 'A',\n",
    "    'GCA': 'A',\n",
    "    'GCG': 'A',\n",
    "    'CGU': 'R', #arginine\n",
    "    'CGC': 'R',\n",
    "    'CGA': 'R',\n",
    "    'CGG': 'R',\n",
    "    'AGA': 'R',\n",
    "    'AGG': 'R',\n",
    "    'AAU': 'N', #asparagine\n",
    "    'AAC': 'N',\n",
    "    'GAU': 'D', #aspartic_acid\n",
    "    'GAC': 'D',\n",
    "    'UGU': 'C', #cysteine\n",
    "    'UGC': 'C', \n",
    "    'GAA': 'E', #glutamine_acid\n",
    "    'GAG': 'E', \n",
    "    'CAA': 'Q', #glutamine\n",
    "    'CAG': 'Q', \n",
    "    'GGU': 'G', #glycine\n",
    "    'GGC': 'G',\n",
    "    'GGA': 'G',\n",
    "    'GGG': 'G',  \n",
    "    'CAU': 'H', #histidine\n",
    "    'CAC': 'H', \n",
    "    'AUU': 'I', #isoleucine\n",
    "    'AUC': 'I',\n",
    "    'AUA': 'I',\n",
    "    'UUA': 'L', #leucine\n",
    "    'UUG': 'L',\n",
    "    'CUU': 'L',\n",
    "    'CUC': 'L',\n",
    "    'CUA': 'L',\n",
    "    'CUG': 'L',\n",
    "    'AAA': 'K', #lysine\n",
    "    'AAG': 'K',\n",
    "    'AUG': 'M', #methionine_start\n",
    "    'UUU': 'F', #phenylalanine\n",
    "    'UUC': 'F',\n",
    "    'CCU': 'P', #proline\n",
    "    'CCC': 'P',\n",
    "    'CCA': 'P',\n",
    "    'CCG': 'P',\n",
    "    'UCU': 'S', #serine\n",
    "    'UCC': 'S',\n",
    "    'UCA': 'S',\n",
    "    'UCG': 'S',\n",
    "    'AGU': 'S',\n",
    "    'AGC': 'S',\n",
    "    'ACU': 'T', #threonine\n",
    "    'ACC': 'T',\n",
    "    'ACA': 'T',\n",
    "    'ACG': 'T',\n",
    "    'UGG': 'W', #tryptophan\n",
    "    'UAU': 'Y', #tyrosine\n",
    "    'UAC': 'Y',\n",
    "    'GUU': 'V', #valine\n",
    "    'GUC': 'V',\n",
    "    'GUA': 'V',\n",
    "    'GUG': 'V',\n",
    "    'UGA': 'stop', #stop\n",
    "    'UAA': 'stop',\n",
    "    'UAG': 'stop',\n",
    "}\n",
    "\n",
    "hidrofobico = ['G','A','V','L','I','M','F','W','P']\n",
    "hidrofilico_neutro = ['S','T','C','Y','N','Q']\n",
    "hidrofilico_negativo = ['D','E'] \n",
    "hidrofilico_positivo = ['K','R','H']"
   ]
  },
  {
   "cell_type": "code",
   "execution_count": 7,
   "id": "6f70e2cd",
   "metadata": {},
   "outputs": [],
   "source": [
    "import matplotlib.pyplot as plt\n",
    "from datetime import datetime\n",
    "import plotly.graph_objects as go"
   ]
  },
  {
   "cell_type": "code",
   "execution_count": 8,
   "id": "2d8df0f7",
   "metadata": {},
   "outputs": [],
   "source": [
    "# identificar o códon de start. pode receber uma sequência típica DNA ou RNA.\n",
    "def tratamento_str(string):\n",
    "    '''Elimina os números e espaços de uma sequência, além de deixá-la em maiúscula'''\n",
    "    \n",
    "    pre_t = ['\\n', ' ', '1', '2', '3', '4', '5', '6', '7', '8', '9', '0']\n",
    "    for i in pre_t:\n",
    "        string = string.replace(i, '')\n",
    "    return string.upper()\n",
    "\n",
    "def neg_transcription(code):\n",
    "    '''Recebe uma fita de RNA negativa e retorna uma fita positiva '''\n",
    "    \n",
    "    pos_code = ''\n",
    "    \n",
    "    for i in code:\n",
    "        if i == 'A':\n",
    "            pos_code += 'U'\n",
    "        elif i == 'U' or i == 'T':\n",
    "            pos_code += 'A'\n",
    "        elif i == 'G':\n",
    "            pos_code += 'C'\n",
    "        elif i == 'C':\n",
    "            pos_code += 'G'\n",
    "        else:\n",
    "            pos_code += 'X'\n",
    "    \n",
    "    return pos_code\n",
    "    \n",
    "def onde_esta_aug(code, DNA=False):\n",
    "    '''Recebe uma string com uma sequência de nucleotídeos, identifica o códon de start e retorna a sequência de RNA a partir \n",
    "    dele. Pode receber como argumento uma sequência RNA ou DNA.'''\n",
    "    \n",
    "    if DNA:\n",
    "        code = code.replace('T', 'U') # Transformar a sequência de DNA em uma sequência RNAm equivalente\n",
    "        \n",
    "    i = code.find('AUG') # Identificar o códon de start (metionina, AUG)\n",
    "    \n",
    "    return '' if i == -1 else code[i:]\n",
    "\n",
    "# identificar os aminoácidos a partir dos códons\n",
    "def id_aminoacidos(seq):\n",
    "    '''Recebe uma sequência de códons e transforma em uma sequência de aminoácidos.'''\n",
    "    \n",
    "    aminoacidos_sequenciados = '' # Guardar em uma string as ocorrências\n",
    "    resto_seq = ''\n",
    "    \n",
    "    for i in range(0, len(seq) - 2, 3):\n",
    "        cdn = seq[i:(i+3)] # pega os códons de 3 em 3\n",
    "        if cdn in codons.keys():\n",
    "            if codons[cdn] == 'stop': # para a tradução\n",
    "                resto_seq = seq[i+3:]\n",
    "                return aminoacidos_sequenciados, resto_seq\n",
    "            else:\n",
    "                aminoacidos_sequenciados += codons[cdn]\n",
    "        else:\n",
    "            aminoacidos_sequenciados += 'X' # Um aminoácido não identificado.\n",
    "            \n",
    "    return aminoacidos_sequenciados, resto_seq\n",
    "\n",
    "# calcula a quantidade de ocorrências de cada aminoácido\n",
    "def ocorrencias_aminoacidos(seq):\n",
    "    '''Calcula a quantidade de ocorrências de uma substring em uma string e retorna um dicionário.'''\n",
    "    \n",
    "    qtd_ocorrencias = {x : seq.count(x) for x in seq} # cria um dicionário relacionando cada amino com a qtd de ocorrências\n",
    "    return qtd_ocorrencias\n",
    "\n",
    "# plota um gráfico de ocorrências e agrupa por cores a partir da natureza polar/apolar do aminoácido\n",
    "def grafico_ocorrencias(dicio, nome='occurrences'):\n",
    "    '''Plota um gráfico interativo com a ocorrência de cada tipo de aminoácidos a partir de uma sequência de aminoácidos.'''\n",
    "\n",
    "    # Dicionários para acumular os valores de cada grupo\n",
    "    hidrofobico_valores = {}\n",
    "    hidrofilico_neutro_valores = {}\n",
    "    hidrofilico_negativo_valores = {}\n",
    "    hidrofilico_positivo_valores = {}\n",
    "    outro_valores = {}\n",
    "\n",
    "    for i in dicio.keys():\n",
    "        if i in hidrofobico:\n",
    "            hidrofobico_valores[i] = dicio[i]\n",
    "        elif i in hidrofilico_neutro:\n",
    "            hidrofilico_neutro_valores[i] = dicio[i]\n",
    "        elif i in hidrofilico_negativo:\n",
    "            hidrofilico_negativo_valores[i] = dicio[i]\n",
    "        elif i in hidrofilico_positivo:\n",
    "            hidrofilico_positivo_valores[i] = dicio[i]\n",
    "        else:\n",
    "            outro_valores[i] = dicio[i]\n",
    "\n",
    "    fig = go.Figure()\n",
    "\n",
    "    # Adiciona os traços para cada grupo\n",
    "    if hidrofobico_valores:\n",
    "        fig.add_trace(go.Bar(\n",
    "            x=list(hidrofobico_valores.keys()), \n",
    "            y=list(hidrofobico_valores.values()), \n",
    "            marker=dict(color='orange'), \n",
    "            name='Hidrofóbico'\n",
    "        ))\n",
    "\n",
    "    if hidrofilico_neutro_valores:\n",
    "        fig.add_trace(go.Bar(\n",
    "            x=list(hidrofilico_neutro_valores.keys()), \n",
    "            y=list(hidrofilico_neutro_valores.values()), \n",
    "            marker=dict(color='blue'), \n",
    "            name='Hidrofilico Neutro'\n",
    "        ))\n",
    "\n",
    "    if hidrofilico_negativo_valores:\n",
    "        fig.add_trace(go.Bar(\n",
    "            x=list(hidrofilico_negativo_valores.keys()), \n",
    "            y=list(hidrofilico_negativo_valores.values()), \n",
    "            marker=dict(color='red'), \n",
    "            name='Hidrofilico Negativo'\n",
    "        ))\n",
    "\n",
    "    if hidrofilico_positivo_valores:\n",
    "        fig.add_trace(go.Bar(\n",
    "            x=list(hidrofilico_positivo_valores.keys()), \n",
    "            y=list(hidrofilico_positivo_valores.values()), \n",
    "            marker=dict(color='green'), \n",
    "            name='Hidrofilico Positivo'\n",
    "        ))\n",
    "\n",
    "    if outro_valores:\n",
    "        fig.add_trace(go.Bar(\n",
    "            x=list(outro_valores.keys()), \n",
    "            y=list(outro_valores.values()), \n",
    "            marker=dict(color='black'), \n",
    "            name='Outro'\n",
    "        ))\n",
    "\n",
    "    # Define os títulos dos eixos e a legenda\n",
    "    fig.update_layout(\n",
    "        xaxis_title='Aminoácidos',\n",
    "        yaxis_title=nome,\n",
    "        legend_title_text='Grupos de Aminoácidos',\n",
    "        title_text='Ocorrência de cada tipos de aminoácidos',\n",
    "        barmode='group'  # Para agrupar as barras lado a lado\n",
    "    )\n",
    "\n",
    "    fig.show()\n",
    "\n",
    "def grafico_porcentagem(dicio, nome='porcentagem'):\n",
    "    '''Plota um gráfico interativo com a porcentagem de cada tipo de aminoácido a partir de uma sequência de aminoácidos.'''\n",
    "    \n",
    "    hidro_fobico = 0\n",
    "    hidro_filico_neutro = 0\n",
    "    hidro_filico_negativo = 0\n",
    "    hidro_filico_positivo = 0\n",
    "    outros = 0\n",
    "    \n",
    "    hidrofobico = ['G','A','V','L','I','M','F','W','P']\n",
    "    hidrofilico_neutro = ['S','T','C','Y','N','Q']\n",
    "    hidrofilico_negativo = ['D','E'] \n",
    "    hidrofilico_positivo = ['K','R','H']\n",
    "    \n",
    "    for i in dicio.keys():\n",
    "        if i in hidrofobico:\n",
    "            hidro_fobico += dicio[i]\n",
    "        elif i in hidrofilico_neutro:\n",
    "            hidro_filico_neutro += dicio[i] \n",
    "        elif i in hidrofilico_negativo:\n",
    "            hidro_filico_negativo += dicio[i]\n",
    "        elif i in hidrofilico_positivo:\n",
    "            hidro_filico_positivo += dicio[i]\n",
    "        else:\n",
    "            outros += dicio[i]\n",
    "    \n",
    "    labels = ['Hidrofóbico', 'Hidrofílico neutro', 'Hidrofílico negativo', 'Hidrofílico positivo', 'Outros']\n",
    "    sizes = [hidro_fobico, hidro_filico_neutro, hidro_filico_negativo, hidro_filico_positivo, outros]\n",
    "\n",
    "    fig = go.Figure(data=[go.Pie(labels=labels, values=sizes, hole=.4)])\n",
    "    fig.update_layout(\n",
    "        title_text='Porcentagem dos tipos de aminoácidos',\n",
    "        annotations=[dict(text='Aminoácidos', x=0.5, y=0.5, font_size=20, showarrow=False)]\n",
    "    )\n",
    "    \n",
    "    fig.show()\n",
    "    \n",
    "    return sizes"
   ]
  },
  {
   "cell_type": "code",
   "execution_count": 9,
   "id": "61a56a42",
   "metadata": {},
   "outputs": [],
   "source": [
    "def genome_identifier(string, isTimine=False, isNeg=False):\n",
    "    '''Código principal, utiliza as funções auxiliares anteriores. Recebe uma sequência (de DNA ou RNA) e retorna os aminoácidos correspondentes, além de um gráfico por tipos e por porcentagem'''\n",
    "    \n",
    "    aminoacidos_identificados = ''\n",
    "    lista_proteinas = []\n",
    "    gen_code = tratamento_str(string)\n",
    "    \n",
    "    if isNeg: # Se a fita for RNA negativa\n",
    "        gen_code = neg_transcription(gen_code)\n",
    "    \n",
    "    while gen_code: # enquanto o código genético contém bases\n",
    "        sequence_starter = onde_esta_aug(gen_code, isTimine)\n",
    "        aa_sequence, gen_code = id_aminoacidos(sequence_starter)\n",
    "        aminoacidos_identificados += aa_sequence\n",
    "        lista_proteinas.append(aa_sequence)\n",
    "        \n",
    "    dict_occurrences = ocorrencias_aminoacidos(aminoacidos_identificados)\n",
    "    grafico_ocorrencias(dict_occurrences)\n",
    "    porcentagem_aa = grafico_porcentagem(dict_occurrences)\n",
    "    \n",
    "    return dict_occurrences, lista_proteinas, porcentagem_aa"
   ]
  },
  {
   "cell_type": "code",
   "execution_count": 10,
   "id": "e52a030b",
   "metadata": {},
   "outputs": [
    {
     "data": {
      "application/vnd.plotly.v1+json": {
       "config": {
        "plotlyServerURL": "https://plot.ly"
       },
       "data": [
        {
         "marker": {
          "color": "orange"
         },
         "name": "Hidrofóbico",
         "type": "bar",
         "x": [
          "M",
          "A",
          "I",
          "V",
          "F",
          "L",
          "P",
          "G",
          "W"
         ],
         "y": [
          97,
          165,
          225,
          232,
          165,
          398,
          184,
          224,
          60
         ]
        },
        {
         "marker": {
          "color": "blue"
         },
         "name": "Hidrofilico Neutro",
         "type": "bar",
         "x": [
          "Q",
          "C",
          "N",
          "T",
          "S",
          "Y"
         ],
         "y": [
          110,
          69,
          159,
          199,
          356,
          131
         ]
        },
        {
         "marker": {
          "color": "red"
         },
         "name": "Hidrofilico Negativo",
         "type": "bar",
         "x": [
          "E",
          "D"
         ],
         "y": [
          214,
          204
         ]
        },
        {
         "marker": {
          "color": "green"
         },
         "name": "Hidrofilico Positivo",
         "type": "bar",
         "x": [
          "K",
          "R",
          "H"
         ],
         "y": [
          196,
          226,
          87
         ]
        }
       ],
       "layout": {
        "barmode": "group",
        "legend": {
         "title": {
          "text": "Grupos de Aminoácidos"
         }
        },
        "template": {
         "data": {
          "bar": [
           {
            "error_x": {
             "color": "#2a3f5f"
            },
            "error_y": {
             "color": "#2a3f5f"
            },
            "marker": {
             "line": {
              "color": "#E5ECF6",
              "width": 0.5
             },
             "pattern": {
              "fillmode": "overlay",
              "size": 10,
              "solidity": 0.2
             }
            },
            "type": "bar"
           }
          ],
          "barpolar": [
           {
            "marker": {
             "line": {
              "color": "#E5ECF6",
              "width": 0.5
             },
             "pattern": {
              "fillmode": "overlay",
              "size": 10,
              "solidity": 0.2
             }
            },
            "type": "barpolar"
           }
          ],
          "carpet": [
           {
            "aaxis": {
             "endlinecolor": "#2a3f5f",
             "gridcolor": "white",
             "linecolor": "white",
             "minorgridcolor": "white",
             "startlinecolor": "#2a3f5f"
            },
            "baxis": {
             "endlinecolor": "#2a3f5f",
             "gridcolor": "white",
             "linecolor": "white",
             "minorgridcolor": "white",
             "startlinecolor": "#2a3f5f"
            },
            "type": "carpet"
           }
          ],
          "choropleth": [
           {
            "colorbar": {
             "outlinewidth": 0,
             "ticks": ""
            },
            "type": "choropleth"
           }
          ],
          "contour": [
           {
            "colorbar": {
             "outlinewidth": 0,
             "ticks": ""
            },
            "colorscale": [
             [
              0,
              "#0d0887"
             ],
             [
              0.1111111111111111,
              "#46039f"
             ],
             [
              0.2222222222222222,
              "#7201a8"
             ],
             [
              0.3333333333333333,
              "#9c179e"
             ],
             [
              0.4444444444444444,
              "#bd3786"
             ],
             [
              0.5555555555555556,
              "#d8576b"
             ],
             [
              0.6666666666666666,
              "#ed7953"
             ],
             [
              0.7777777777777778,
              "#fb9f3a"
             ],
             [
              0.8888888888888888,
              "#fdca26"
             ],
             [
              1,
              "#f0f921"
             ]
            ],
            "type": "contour"
           }
          ],
          "contourcarpet": [
           {
            "colorbar": {
             "outlinewidth": 0,
             "ticks": ""
            },
            "type": "contourcarpet"
           }
          ],
          "heatmap": [
           {
            "colorbar": {
             "outlinewidth": 0,
             "ticks": ""
            },
            "colorscale": [
             [
              0,
              "#0d0887"
             ],
             [
              0.1111111111111111,
              "#46039f"
             ],
             [
              0.2222222222222222,
              "#7201a8"
             ],
             [
              0.3333333333333333,
              "#9c179e"
             ],
             [
              0.4444444444444444,
              "#bd3786"
             ],
             [
              0.5555555555555556,
              "#d8576b"
             ],
             [
              0.6666666666666666,
              "#ed7953"
             ],
             [
              0.7777777777777778,
              "#fb9f3a"
             ],
             [
              0.8888888888888888,
              "#fdca26"
             ],
             [
              1,
              "#f0f921"
             ]
            ],
            "type": "heatmap"
           }
          ],
          "heatmapgl": [
           {
            "colorbar": {
             "outlinewidth": 0,
             "ticks": ""
            },
            "colorscale": [
             [
              0,
              "#0d0887"
             ],
             [
              0.1111111111111111,
              "#46039f"
             ],
             [
              0.2222222222222222,
              "#7201a8"
             ],
             [
              0.3333333333333333,
              "#9c179e"
             ],
             [
              0.4444444444444444,
              "#bd3786"
             ],
             [
              0.5555555555555556,
              "#d8576b"
             ],
             [
              0.6666666666666666,
              "#ed7953"
             ],
             [
              0.7777777777777778,
              "#fb9f3a"
             ],
             [
              0.8888888888888888,
              "#fdca26"
             ],
             [
              1,
              "#f0f921"
             ]
            ],
            "type": "heatmapgl"
           }
          ],
          "histogram": [
           {
            "marker": {
             "pattern": {
              "fillmode": "overlay",
              "size": 10,
              "solidity": 0.2
             }
            },
            "type": "histogram"
           }
          ],
          "histogram2d": [
           {
            "colorbar": {
             "outlinewidth": 0,
             "ticks": ""
            },
            "colorscale": [
             [
              0,
              "#0d0887"
             ],
             [
              0.1111111111111111,
              "#46039f"
             ],
             [
              0.2222222222222222,
              "#7201a8"
             ],
             [
              0.3333333333333333,
              "#9c179e"
             ],
             [
              0.4444444444444444,
              "#bd3786"
             ],
             [
              0.5555555555555556,
              "#d8576b"
             ],
             [
              0.6666666666666666,
              "#ed7953"
             ],
             [
              0.7777777777777778,
              "#fb9f3a"
             ],
             [
              0.8888888888888888,
              "#fdca26"
             ],
             [
              1,
              "#f0f921"
             ]
            ],
            "type": "histogram2d"
           }
          ],
          "histogram2dcontour": [
           {
            "colorbar": {
             "outlinewidth": 0,
             "ticks": ""
            },
            "colorscale": [
             [
              0,
              "#0d0887"
             ],
             [
              0.1111111111111111,
              "#46039f"
             ],
             [
              0.2222222222222222,
              "#7201a8"
             ],
             [
              0.3333333333333333,
              "#9c179e"
             ],
             [
              0.4444444444444444,
              "#bd3786"
             ],
             [
              0.5555555555555556,
              "#d8576b"
             ],
             [
              0.6666666666666666,
              "#ed7953"
             ],
             [
              0.7777777777777778,
              "#fb9f3a"
             ],
             [
              0.8888888888888888,
              "#fdca26"
             ],
             [
              1,
              "#f0f921"
             ]
            ],
            "type": "histogram2dcontour"
           }
          ],
          "mesh3d": [
           {
            "colorbar": {
             "outlinewidth": 0,
             "ticks": ""
            },
            "type": "mesh3d"
           }
          ],
          "parcoords": [
           {
            "line": {
             "colorbar": {
              "outlinewidth": 0,
              "ticks": ""
             }
            },
            "type": "parcoords"
           }
          ],
          "pie": [
           {
            "automargin": true,
            "type": "pie"
           }
          ],
          "scatter": [
           {
            "fillpattern": {
             "fillmode": "overlay",
             "size": 10,
             "solidity": 0.2
            },
            "type": "scatter"
           }
          ],
          "scatter3d": [
           {
            "line": {
             "colorbar": {
              "outlinewidth": 0,
              "ticks": ""
             }
            },
            "marker": {
             "colorbar": {
              "outlinewidth": 0,
              "ticks": ""
             }
            },
            "type": "scatter3d"
           }
          ],
          "scattercarpet": [
           {
            "marker": {
             "colorbar": {
              "outlinewidth": 0,
              "ticks": ""
             }
            },
            "type": "scattercarpet"
           }
          ],
          "scattergeo": [
           {
            "marker": {
             "colorbar": {
              "outlinewidth": 0,
              "ticks": ""
             }
            },
            "type": "scattergeo"
           }
          ],
          "scattergl": [
           {
            "marker": {
             "colorbar": {
              "outlinewidth": 0,
              "ticks": ""
             }
            },
            "type": "scattergl"
           }
          ],
          "scattermapbox": [
           {
            "marker": {
             "colorbar": {
              "outlinewidth": 0,
              "ticks": ""
             }
            },
            "type": "scattermapbox"
           }
          ],
          "scatterpolar": [
           {
            "marker": {
             "colorbar": {
              "outlinewidth": 0,
              "ticks": ""
             }
            },
            "type": "scatterpolar"
           }
          ],
          "scatterpolargl": [
           {
            "marker": {
             "colorbar": {
              "outlinewidth": 0,
              "ticks": ""
             }
            },
            "type": "scatterpolargl"
           }
          ],
          "scatterternary": [
           {
            "marker": {
             "colorbar": {
              "outlinewidth": 0,
              "ticks": ""
             }
            },
            "type": "scatterternary"
           }
          ],
          "surface": [
           {
            "colorbar": {
             "outlinewidth": 0,
             "ticks": ""
            },
            "colorscale": [
             [
              0,
              "#0d0887"
             ],
             [
              0.1111111111111111,
              "#46039f"
             ],
             [
              0.2222222222222222,
              "#7201a8"
             ],
             [
              0.3333333333333333,
              "#9c179e"
             ],
             [
              0.4444444444444444,
              "#bd3786"
             ],
             [
              0.5555555555555556,
              "#d8576b"
             ],
             [
              0.6666666666666666,
              "#ed7953"
             ],
             [
              0.7777777777777778,
              "#fb9f3a"
             ],
             [
              0.8888888888888888,
              "#fdca26"
             ],
             [
              1,
              "#f0f921"
             ]
            ],
            "type": "surface"
           }
          ],
          "table": [
           {
            "cells": {
             "fill": {
              "color": "#EBF0F8"
             },
             "line": {
              "color": "white"
             }
            },
            "header": {
             "fill": {
              "color": "#C8D4E3"
             },
             "line": {
              "color": "white"
             }
            },
            "type": "table"
           }
          ]
         },
         "layout": {
          "annotationdefaults": {
           "arrowcolor": "#2a3f5f",
           "arrowhead": 0,
           "arrowwidth": 1
          },
          "autotypenumbers": "strict",
          "coloraxis": {
           "colorbar": {
            "outlinewidth": 0,
            "ticks": ""
           }
          },
          "colorscale": {
           "diverging": [
            [
             0,
             "#8e0152"
            ],
            [
             0.1,
             "#c51b7d"
            ],
            [
             0.2,
             "#de77ae"
            ],
            [
             0.3,
             "#f1b6da"
            ],
            [
             0.4,
             "#fde0ef"
            ],
            [
             0.5,
             "#f7f7f7"
            ],
            [
             0.6,
             "#e6f5d0"
            ],
            [
             0.7,
             "#b8e186"
            ],
            [
             0.8,
             "#7fbc41"
            ],
            [
             0.9,
             "#4d9221"
            ],
            [
             1,
             "#276419"
            ]
           ],
           "sequential": [
            [
             0,
             "#0d0887"
            ],
            [
             0.1111111111111111,
             "#46039f"
            ],
            [
             0.2222222222222222,
             "#7201a8"
            ],
            [
             0.3333333333333333,
             "#9c179e"
            ],
            [
             0.4444444444444444,
             "#bd3786"
            ],
            [
             0.5555555555555556,
             "#d8576b"
            ],
            [
             0.6666666666666666,
             "#ed7953"
            ],
            [
             0.7777777777777778,
             "#fb9f3a"
            ],
            [
             0.8888888888888888,
             "#fdca26"
            ],
            [
             1,
             "#f0f921"
            ]
           ],
           "sequentialminus": [
            [
             0,
             "#0d0887"
            ],
            [
             0.1111111111111111,
             "#46039f"
            ],
            [
             0.2222222222222222,
             "#7201a8"
            ],
            [
             0.3333333333333333,
             "#9c179e"
            ],
            [
             0.4444444444444444,
             "#bd3786"
            ],
            [
             0.5555555555555556,
             "#d8576b"
            ],
            [
             0.6666666666666666,
             "#ed7953"
            ],
            [
             0.7777777777777778,
             "#fb9f3a"
            ],
            [
             0.8888888888888888,
             "#fdca26"
            ],
            [
             1,
             "#f0f921"
            ]
           ]
          },
          "colorway": [
           "#636efa",
           "#EF553B",
           "#00cc96",
           "#ab63fa",
           "#FFA15A",
           "#19d3f3",
           "#FF6692",
           "#B6E880",
           "#FF97FF",
           "#FECB52"
          ],
          "font": {
           "color": "#2a3f5f"
          },
          "geo": {
           "bgcolor": "white",
           "lakecolor": "white",
           "landcolor": "#E5ECF6",
           "showlakes": true,
           "showland": true,
           "subunitcolor": "white"
          },
          "hoverlabel": {
           "align": "left"
          },
          "hovermode": "closest",
          "mapbox": {
           "style": "light"
          },
          "paper_bgcolor": "white",
          "plot_bgcolor": "#E5ECF6",
          "polar": {
           "angularaxis": {
            "gridcolor": "white",
            "linecolor": "white",
            "ticks": ""
           },
           "bgcolor": "#E5ECF6",
           "radialaxis": {
            "gridcolor": "white",
            "linecolor": "white",
            "ticks": ""
           }
          },
          "scene": {
           "xaxis": {
            "backgroundcolor": "#E5ECF6",
            "gridcolor": "white",
            "gridwidth": 2,
            "linecolor": "white",
            "showbackground": true,
            "ticks": "",
            "zerolinecolor": "white"
           },
           "yaxis": {
            "backgroundcolor": "#E5ECF6",
            "gridcolor": "white",
            "gridwidth": 2,
            "linecolor": "white",
            "showbackground": true,
            "ticks": "",
            "zerolinecolor": "white"
           },
           "zaxis": {
            "backgroundcolor": "#E5ECF6",
            "gridcolor": "white",
            "gridwidth": 2,
            "linecolor": "white",
            "showbackground": true,
            "ticks": "",
            "zerolinecolor": "white"
           }
          },
          "shapedefaults": {
           "line": {
            "color": "#2a3f5f"
           }
          },
          "ternary": {
           "aaxis": {
            "gridcolor": "white",
            "linecolor": "white",
            "ticks": ""
           },
           "baxis": {
            "gridcolor": "white",
            "linecolor": "white",
            "ticks": ""
           },
           "bgcolor": "#E5ECF6",
           "caxis": {
            "gridcolor": "white",
            "linecolor": "white",
            "ticks": ""
           }
          },
          "title": {
           "x": 0.05
          },
          "xaxis": {
           "automargin": true,
           "gridcolor": "white",
           "linecolor": "white",
           "ticks": "",
           "title": {
            "standoff": 15
           },
           "zerolinecolor": "white",
           "zerolinewidth": 2
          },
          "yaxis": {
           "automargin": true,
           "gridcolor": "white",
           "linecolor": "white",
           "ticks": "",
           "title": {
            "standoff": 15
           },
           "zerolinecolor": "white",
           "zerolinewidth": 2
          }
         }
        },
        "title": {
         "text": "Ocorrência de cada tipos de aminoácidos"
        },
        "xaxis": {
         "title": {
          "text": "Aminoácidos"
         }
        },
        "yaxis": {
         "title": {
          "text": "occurrences"
         }
        }
       }
      },
      "text/html": [
       "<div>                            <div id=\"52f47949-3448-4e24-9a7c-ea22943d9f73\" class=\"plotly-graph-div\" style=\"height:525px; width:100%;\"></div>            <script type=\"text/javascript\">                require([\"plotly\"], function(Plotly) {                    window.PLOTLYENV=window.PLOTLYENV || {};                                    if (document.getElementById(\"52f47949-3448-4e24-9a7c-ea22943d9f73\")) {                    Plotly.newPlot(                        \"52f47949-3448-4e24-9a7c-ea22943d9f73\",                        [{\"marker\":{\"color\":\"orange\"},\"name\":\"Hidrof\\u00f3bico\",\"x\":[\"M\",\"A\",\"I\",\"V\",\"F\",\"L\",\"P\",\"G\",\"W\"],\"y\":[97,165,225,232,165,398,184,224,60],\"type\":\"bar\"},{\"marker\":{\"color\":\"blue\"},\"name\":\"Hidrofilico Neutro\",\"x\":[\"Q\",\"C\",\"N\",\"T\",\"S\",\"Y\"],\"y\":[110,69,159,199,356,131],\"type\":\"bar\"},{\"marker\":{\"color\":\"red\"},\"name\":\"Hidrofilico Negativo\",\"x\":[\"E\",\"D\"],\"y\":[214,204],\"type\":\"bar\"},{\"marker\":{\"color\":\"green\"},\"name\":\"Hidrofilico Positivo\",\"x\":[\"K\",\"R\",\"H\"],\"y\":[196,226,87],\"type\":\"bar\"}],                        {\"template\":{\"data\":{\"histogram2dcontour\":[{\"type\":\"histogram2dcontour\",\"colorbar\":{\"outlinewidth\":0,\"ticks\":\"\"},\"colorscale\":[[0.0,\"#0d0887\"],[0.1111111111111111,\"#46039f\"],[0.2222222222222222,\"#7201a8\"],[0.3333333333333333,\"#9c179e\"],[0.4444444444444444,\"#bd3786\"],[0.5555555555555556,\"#d8576b\"],[0.6666666666666666,\"#ed7953\"],[0.7777777777777778,\"#fb9f3a\"],[0.8888888888888888,\"#fdca26\"],[1.0,\"#f0f921\"]]}],\"choropleth\":[{\"type\":\"choropleth\",\"colorbar\":{\"outlinewidth\":0,\"ticks\":\"\"}}],\"histogram2d\":[{\"type\":\"histogram2d\",\"colorbar\":{\"outlinewidth\":0,\"ticks\":\"\"},\"colorscale\":[[0.0,\"#0d0887\"],[0.1111111111111111,\"#46039f\"],[0.2222222222222222,\"#7201a8\"],[0.3333333333333333,\"#9c179e\"],[0.4444444444444444,\"#bd3786\"],[0.5555555555555556,\"#d8576b\"],[0.6666666666666666,\"#ed7953\"],[0.7777777777777778,\"#fb9f3a\"],[0.8888888888888888,\"#fdca26\"],[1.0,\"#f0f921\"]]}],\"heatmap\":[{\"type\":\"heatmap\",\"colorbar\":{\"outlinewidth\":0,\"ticks\":\"\"},\"colorscale\":[[0.0,\"#0d0887\"],[0.1111111111111111,\"#46039f\"],[0.2222222222222222,\"#7201a8\"],[0.3333333333333333,\"#9c179e\"],[0.4444444444444444,\"#bd3786\"],[0.5555555555555556,\"#d8576b\"],[0.6666666666666666,\"#ed7953\"],[0.7777777777777778,\"#fb9f3a\"],[0.8888888888888888,\"#fdca26\"],[1.0,\"#f0f921\"]]}],\"heatmapgl\":[{\"type\":\"heatmapgl\",\"colorbar\":{\"outlinewidth\":0,\"ticks\":\"\"},\"colorscale\":[[0.0,\"#0d0887\"],[0.1111111111111111,\"#46039f\"],[0.2222222222222222,\"#7201a8\"],[0.3333333333333333,\"#9c179e\"],[0.4444444444444444,\"#bd3786\"],[0.5555555555555556,\"#d8576b\"],[0.6666666666666666,\"#ed7953\"],[0.7777777777777778,\"#fb9f3a\"],[0.8888888888888888,\"#fdca26\"],[1.0,\"#f0f921\"]]}],\"contourcarpet\":[{\"type\":\"contourcarpet\",\"colorbar\":{\"outlinewidth\":0,\"ticks\":\"\"}}],\"contour\":[{\"type\":\"contour\",\"colorbar\":{\"outlinewidth\":0,\"ticks\":\"\"},\"colorscale\":[[0.0,\"#0d0887\"],[0.1111111111111111,\"#46039f\"],[0.2222222222222222,\"#7201a8\"],[0.3333333333333333,\"#9c179e\"],[0.4444444444444444,\"#bd3786\"],[0.5555555555555556,\"#d8576b\"],[0.6666666666666666,\"#ed7953\"],[0.7777777777777778,\"#fb9f3a\"],[0.8888888888888888,\"#fdca26\"],[1.0,\"#f0f921\"]]}],\"surface\":[{\"type\":\"surface\",\"colorbar\":{\"outlinewidth\":0,\"ticks\":\"\"},\"colorscale\":[[0.0,\"#0d0887\"],[0.1111111111111111,\"#46039f\"],[0.2222222222222222,\"#7201a8\"],[0.3333333333333333,\"#9c179e\"],[0.4444444444444444,\"#bd3786\"],[0.5555555555555556,\"#d8576b\"],[0.6666666666666666,\"#ed7953\"],[0.7777777777777778,\"#fb9f3a\"],[0.8888888888888888,\"#fdca26\"],[1.0,\"#f0f921\"]]}],\"mesh3d\":[{\"type\":\"mesh3d\",\"colorbar\":{\"outlinewidth\":0,\"ticks\":\"\"}}],\"scatter\":[{\"fillpattern\":{\"fillmode\":\"overlay\",\"size\":10,\"solidity\":0.2},\"type\":\"scatter\"}],\"parcoords\":[{\"type\":\"parcoords\",\"line\":{\"colorbar\":{\"outlinewidth\":0,\"ticks\":\"\"}}}],\"scatterpolargl\":[{\"type\":\"scatterpolargl\",\"marker\":{\"colorbar\":{\"outlinewidth\":0,\"ticks\":\"\"}}}],\"bar\":[{\"error_x\":{\"color\":\"#2a3f5f\"},\"error_y\":{\"color\":\"#2a3f5f\"},\"marker\":{\"line\":{\"color\":\"#E5ECF6\",\"width\":0.5},\"pattern\":{\"fillmode\":\"overlay\",\"size\":10,\"solidity\":0.2}},\"type\":\"bar\"}],\"scattergeo\":[{\"type\":\"scattergeo\",\"marker\":{\"colorbar\":{\"outlinewidth\":0,\"ticks\":\"\"}}}],\"scatterpolar\":[{\"type\":\"scatterpolar\",\"marker\":{\"colorbar\":{\"outlinewidth\":0,\"ticks\":\"\"}}}],\"histogram\":[{\"marker\":{\"pattern\":{\"fillmode\":\"overlay\",\"size\":10,\"solidity\":0.2}},\"type\":\"histogram\"}],\"scattergl\":[{\"type\":\"scattergl\",\"marker\":{\"colorbar\":{\"outlinewidth\":0,\"ticks\":\"\"}}}],\"scatter3d\":[{\"type\":\"scatter3d\",\"line\":{\"colorbar\":{\"outlinewidth\":0,\"ticks\":\"\"}},\"marker\":{\"colorbar\":{\"outlinewidth\":0,\"ticks\":\"\"}}}],\"scattermapbox\":[{\"type\":\"scattermapbox\",\"marker\":{\"colorbar\":{\"outlinewidth\":0,\"ticks\":\"\"}}}],\"scatterternary\":[{\"type\":\"scatterternary\",\"marker\":{\"colorbar\":{\"outlinewidth\":0,\"ticks\":\"\"}}}],\"scattercarpet\":[{\"type\":\"scattercarpet\",\"marker\":{\"colorbar\":{\"outlinewidth\":0,\"ticks\":\"\"}}}],\"carpet\":[{\"aaxis\":{\"endlinecolor\":\"#2a3f5f\",\"gridcolor\":\"white\",\"linecolor\":\"white\",\"minorgridcolor\":\"white\",\"startlinecolor\":\"#2a3f5f\"},\"baxis\":{\"endlinecolor\":\"#2a3f5f\",\"gridcolor\":\"white\",\"linecolor\":\"white\",\"minorgridcolor\":\"white\",\"startlinecolor\":\"#2a3f5f\"},\"type\":\"carpet\"}],\"table\":[{\"cells\":{\"fill\":{\"color\":\"#EBF0F8\"},\"line\":{\"color\":\"white\"}},\"header\":{\"fill\":{\"color\":\"#C8D4E3\"},\"line\":{\"color\":\"white\"}},\"type\":\"table\"}],\"barpolar\":[{\"marker\":{\"line\":{\"color\":\"#E5ECF6\",\"width\":0.5},\"pattern\":{\"fillmode\":\"overlay\",\"size\":10,\"solidity\":0.2}},\"type\":\"barpolar\"}],\"pie\":[{\"automargin\":true,\"type\":\"pie\"}]},\"layout\":{\"autotypenumbers\":\"strict\",\"colorway\":[\"#636efa\",\"#EF553B\",\"#00cc96\",\"#ab63fa\",\"#FFA15A\",\"#19d3f3\",\"#FF6692\",\"#B6E880\",\"#FF97FF\",\"#FECB52\"],\"font\":{\"color\":\"#2a3f5f\"},\"hovermode\":\"closest\",\"hoverlabel\":{\"align\":\"left\"},\"paper_bgcolor\":\"white\",\"plot_bgcolor\":\"#E5ECF6\",\"polar\":{\"bgcolor\":\"#E5ECF6\",\"angularaxis\":{\"gridcolor\":\"white\",\"linecolor\":\"white\",\"ticks\":\"\"},\"radialaxis\":{\"gridcolor\":\"white\",\"linecolor\":\"white\",\"ticks\":\"\"}},\"ternary\":{\"bgcolor\":\"#E5ECF6\",\"aaxis\":{\"gridcolor\":\"white\",\"linecolor\":\"white\",\"ticks\":\"\"},\"baxis\":{\"gridcolor\":\"white\",\"linecolor\":\"white\",\"ticks\":\"\"},\"caxis\":{\"gridcolor\":\"white\",\"linecolor\":\"white\",\"ticks\":\"\"}},\"coloraxis\":{\"colorbar\":{\"outlinewidth\":0,\"ticks\":\"\"}},\"colorscale\":{\"sequential\":[[0.0,\"#0d0887\"],[0.1111111111111111,\"#46039f\"],[0.2222222222222222,\"#7201a8\"],[0.3333333333333333,\"#9c179e\"],[0.4444444444444444,\"#bd3786\"],[0.5555555555555556,\"#d8576b\"],[0.6666666666666666,\"#ed7953\"],[0.7777777777777778,\"#fb9f3a\"],[0.8888888888888888,\"#fdca26\"],[1.0,\"#f0f921\"]],\"sequentialminus\":[[0.0,\"#0d0887\"],[0.1111111111111111,\"#46039f\"],[0.2222222222222222,\"#7201a8\"],[0.3333333333333333,\"#9c179e\"],[0.4444444444444444,\"#bd3786\"],[0.5555555555555556,\"#d8576b\"],[0.6666666666666666,\"#ed7953\"],[0.7777777777777778,\"#fb9f3a\"],[0.8888888888888888,\"#fdca26\"],[1.0,\"#f0f921\"]],\"diverging\":[[0,\"#8e0152\"],[0.1,\"#c51b7d\"],[0.2,\"#de77ae\"],[0.3,\"#f1b6da\"],[0.4,\"#fde0ef\"],[0.5,\"#f7f7f7\"],[0.6,\"#e6f5d0\"],[0.7,\"#b8e186\"],[0.8,\"#7fbc41\"],[0.9,\"#4d9221\"],[1,\"#276419\"]]},\"xaxis\":{\"gridcolor\":\"white\",\"linecolor\":\"white\",\"ticks\":\"\",\"title\":{\"standoff\":15},\"zerolinecolor\":\"white\",\"automargin\":true,\"zerolinewidth\":2},\"yaxis\":{\"gridcolor\":\"white\",\"linecolor\":\"white\",\"ticks\":\"\",\"title\":{\"standoff\":15},\"zerolinecolor\":\"white\",\"automargin\":true,\"zerolinewidth\":2},\"scene\":{\"xaxis\":{\"backgroundcolor\":\"#E5ECF6\",\"gridcolor\":\"white\",\"linecolor\":\"white\",\"showbackground\":true,\"ticks\":\"\",\"zerolinecolor\":\"white\",\"gridwidth\":2},\"yaxis\":{\"backgroundcolor\":\"#E5ECF6\",\"gridcolor\":\"white\",\"linecolor\":\"white\",\"showbackground\":true,\"ticks\":\"\",\"zerolinecolor\":\"white\",\"gridwidth\":2},\"zaxis\":{\"backgroundcolor\":\"#E5ECF6\",\"gridcolor\":\"white\",\"linecolor\":\"white\",\"showbackground\":true,\"ticks\":\"\",\"zerolinecolor\":\"white\",\"gridwidth\":2}},\"shapedefaults\":{\"line\":{\"color\":\"#2a3f5f\"}},\"annotationdefaults\":{\"arrowcolor\":\"#2a3f5f\",\"arrowhead\":0,\"arrowwidth\":1},\"geo\":{\"bgcolor\":\"white\",\"landcolor\":\"#E5ECF6\",\"subunitcolor\":\"white\",\"showland\":true,\"showlakes\":true,\"lakecolor\":\"white\"},\"title\":{\"x\":0.05},\"mapbox\":{\"style\":\"light\"}}},\"legend\":{\"title\":{\"text\":\"Grupos de Amino\\u00e1cidos\"}},\"title\":{\"text\":\"Ocorr\\u00eancia de cada tipos de amino\\u00e1cidos\"},\"xaxis\":{\"title\":{\"text\":\"Amino\\u00e1cidos\"}},\"yaxis\":{\"title\":{\"text\":\"occurrences\"}},\"barmode\":\"group\"},                        {\"responsive\": true}                    ).then(function(){\n",
       "                            \n",
       "var gd = document.getElementById('52f47949-3448-4e24-9a7c-ea22943d9f73');\n",
       "var x = new MutationObserver(function (mutations, observer) {{\n",
       "        var display = window.getComputedStyle(gd).display;\n",
       "        if (!display || display === 'none') {{\n",
       "            console.log([gd, 'removed!']);\n",
       "            Plotly.purge(gd);\n",
       "            observer.disconnect();\n",
       "        }}\n",
       "}});\n",
       "\n",
       "// Listen for the removal of the full notebook cells\n",
       "var notebookContainer = gd.closest('#notebook-container');\n",
       "if (notebookContainer) {{\n",
       "    x.observe(notebookContainer, {childList: true});\n",
       "}}\n",
       "\n",
       "// Listen for the clearing of the current output cell\n",
       "var outputEl = gd.closest('.output');\n",
       "if (outputEl) {{\n",
       "    x.observe(outputEl, {childList: true});\n",
       "}}\n",
       "\n",
       "                        })                };                });            </script>        </div>"
      ]
     },
     "metadata": {},
     "output_type": "display_data"
    },
    {
     "data": {
      "application/vnd.plotly.v1+json": {
       "config": {
        "plotlyServerURL": "https://plot.ly"
       },
       "data": [
        {
         "hole": 0.4,
         "labels": [
          "Hidrofóbico",
          "Hidrofílico neutro",
          "Hidrofílico negativo",
          "Hidrofílico positivo",
          "Outros"
         ],
         "type": "pie",
         "values": [
          1750,
          1024,
          418,
          509,
          0
         ]
        }
       ],
       "layout": {
        "annotations": [
         {
          "font": {
           "size": 20
          },
          "showarrow": false,
          "text": "Aminoácidos",
          "x": 0.5,
          "y": 0.5
         }
        ],
        "template": {
         "data": {
          "bar": [
           {
            "error_x": {
             "color": "#2a3f5f"
            },
            "error_y": {
             "color": "#2a3f5f"
            },
            "marker": {
             "line": {
              "color": "#E5ECF6",
              "width": 0.5
             },
             "pattern": {
              "fillmode": "overlay",
              "size": 10,
              "solidity": 0.2
             }
            },
            "type": "bar"
           }
          ],
          "barpolar": [
           {
            "marker": {
             "line": {
              "color": "#E5ECF6",
              "width": 0.5
             },
             "pattern": {
              "fillmode": "overlay",
              "size": 10,
              "solidity": 0.2
             }
            },
            "type": "barpolar"
           }
          ],
          "carpet": [
           {
            "aaxis": {
             "endlinecolor": "#2a3f5f",
             "gridcolor": "white",
             "linecolor": "white",
             "minorgridcolor": "white",
             "startlinecolor": "#2a3f5f"
            },
            "baxis": {
             "endlinecolor": "#2a3f5f",
             "gridcolor": "white",
             "linecolor": "white",
             "minorgridcolor": "white",
             "startlinecolor": "#2a3f5f"
            },
            "type": "carpet"
           }
          ],
          "choropleth": [
           {
            "colorbar": {
             "outlinewidth": 0,
             "ticks": ""
            },
            "type": "choropleth"
           }
          ],
          "contour": [
           {
            "colorbar": {
             "outlinewidth": 0,
             "ticks": ""
            },
            "colorscale": [
             [
              0,
              "#0d0887"
             ],
             [
              0.1111111111111111,
              "#46039f"
             ],
             [
              0.2222222222222222,
              "#7201a8"
             ],
             [
              0.3333333333333333,
              "#9c179e"
             ],
             [
              0.4444444444444444,
              "#bd3786"
             ],
             [
              0.5555555555555556,
              "#d8576b"
             ],
             [
              0.6666666666666666,
              "#ed7953"
             ],
             [
              0.7777777777777778,
              "#fb9f3a"
             ],
             [
              0.8888888888888888,
              "#fdca26"
             ],
             [
              1,
              "#f0f921"
             ]
            ],
            "type": "contour"
           }
          ],
          "contourcarpet": [
           {
            "colorbar": {
             "outlinewidth": 0,
             "ticks": ""
            },
            "type": "contourcarpet"
           }
          ],
          "heatmap": [
           {
            "colorbar": {
             "outlinewidth": 0,
             "ticks": ""
            },
            "colorscale": [
             [
              0,
              "#0d0887"
             ],
             [
              0.1111111111111111,
              "#46039f"
             ],
             [
              0.2222222222222222,
              "#7201a8"
             ],
             [
              0.3333333333333333,
              "#9c179e"
             ],
             [
              0.4444444444444444,
              "#bd3786"
             ],
             [
              0.5555555555555556,
              "#d8576b"
             ],
             [
              0.6666666666666666,
              "#ed7953"
             ],
             [
              0.7777777777777778,
              "#fb9f3a"
             ],
             [
              0.8888888888888888,
              "#fdca26"
             ],
             [
              1,
              "#f0f921"
             ]
            ],
            "type": "heatmap"
           }
          ],
          "heatmapgl": [
           {
            "colorbar": {
             "outlinewidth": 0,
             "ticks": ""
            },
            "colorscale": [
             [
              0,
              "#0d0887"
             ],
             [
              0.1111111111111111,
              "#46039f"
             ],
             [
              0.2222222222222222,
              "#7201a8"
             ],
             [
              0.3333333333333333,
              "#9c179e"
             ],
             [
              0.4444444444444444,
              "#bd3786"
             ],
             [
              0.5555555555555556,
              "#d8576b"
             ],
             [
              0.6666666666666666,
              "#ed7953"
             ],
             [
              0.7777777777777778,
              "#fb9f3a"
             ],
             [
              0.8888888888888888,
              "#fdca26"
             ],
             [
              1,
              "#f0f921"
             ]
            ],
            "type": "heatmapgl"
           }
          ],
          "histogram": [
           {
            "marker": {
             "pattern": {
              "fillmode": "overlay",
              "size": 10,
              "solidity": 0.2
             }
            },
            "type": "histogram"
           }
          ],
          "histogram2d": [
           {
            "colorbar": {
             "outlinewidth": 0,
             "ticks": ""
            },
            "colorscale": [
             [
              0,
              "#0d0887"
             ],
             [
              0.1111111111111111,
              "#46039f"
             ],
             [
              0.2222222222222222,
              "#7201a8"
             ],
             [
              0.3333333333333333,
              "#9c179e"
             ],
             [
              0.4444444444444444,
              "#bd3786"
             ],
             [
              0.5555555555555556,
              "#d8576b"
             ],
             [
              0.6666666666666666,
              "#ed7953"
             ],
             [
              0.7777777777777778,
              "#fb9f3a"
             ],
             [
              0.8888888888888888,
              "#fdca26"
             ],
             [
              1,
              "#f0f921"
             ]
            ],
            "type": "histogram2d"
           }
          ],
          "histogram2dcontour": [
           {
            "colorbar": {
             "outlinewidth": 0,
             "ticks": ""
            },
            "colorscale": [
             [
              0,
              "#0d0887"
             ],
             [
              0.1111111111111111,
              "#46039f"
             ],
             [
              0.2222222222222222,
              "#7201a8"
             ],
             [
              0.3333333333333333,
              "#9c179e"
             ],
             [
              0.4444444444444444,
              "#bd3786"
             ],
             [
              0.5555555555555556,
              "#d8576b"
             ],
             [
              0.6666666666666666,
              "#ed7953"
             ],
             [
              0.7777777777777778,
              "#fb9f3a"
             ],
             [
              0.8888888888888888,
              "#fdca26"
             ],
             [
              1,
              "#f0f921"
             ]
            ],
            "type": "histogram2dcontour"
           }
          ],
          "mesh3d": [
           {
            "colorbar": {
             "outlinewidth": 0,
             "ticks": ""
            },
            "type": "mesh3d"
           }
          ],
          "parcoords": [
           {
            "line": {
             "colorbar": {
              "outlinewidth": 0,
              "ticks": ""
             }
            },
            "type": "parcoords"
           }
          ],
          "pie": [
           {
            "automargin": true,
            "type": "pie"
           }
          ],
          "scatter": [
           {
            "fillpattern": {
             "fillmode": "overlay",
             "size": 10,
             "solidity": 0.2
            },
            "type": "scatter"
           }
          ],
          "scatter3d": [
           {
            "line": {
             "colorbar": {
              "outlinewidth": 0,
              "ticks": ""
             }
            },
            "marker": {
             "colorbar": {
              "outlinewidth": 0,
              "ticks": ""
             }
            },
            "type": "scatter3d"
           }
          ],
          "scattercarpet": [
           {
            "marker": {
             "colorbar": {
              "outlinewidth": 0,
              "ticks": ""
             }
            },
            "type": "scattercarpet"
           }
          ],
          "scattergeo": [
           {
            "marker": {
             "colorbar": {
              "outlinewidth": 0,
              "ticks": ""
             }
            },
            "type": "scattergeo"
           }
          ],
          "scattergl": [
           {
            "marker": {
             "colorbar": {
              "outlinewidth": 0,
              "ticks": ""
             }
            },
            "type": "scattergl"
           }
          ],
          "scattermapbox": [
           {
            "marker": {
             "colorbar": {
              "outlinewidth": 0,
              "ticks": ""
             }
            },
            "type": "scattermapbox"
           }
          ],
          "scatterpolar": [
           {
            "marker": {
             "colorbar": {
              "outlinewidth": 0,
              "ticks": ""
             }
            },
            "type": "scatterpolar"
           }
          ],
          "scatterpolargl": [
           {
            "marker": {
             "colorbar": {
              "outlinewidth": 0,
              "ticks": ""
             }
            },
            "type": "scatterpolargl"
           }
          ],
          "scatterternary": [
           {
            "marker": {
             "colorbar": {
              "outlinewidth": 0,
              "ticks": ""
             }
            },
            "type": "scatterternary"
           }
          ],
          "surface": [
           {
            "colorbar": {
             "outlinewidth": 0,
             "ticks": ""
            },
            "colorscale": [
             [
              0,
              "#0d0887"
             ],
             [
              0.1111111111111111,
              "#46039f"
             ],
             [
              0.2222222222222222,
              "#7201a8"
             ],
             [
              0.3333333333333333,
              "#9c179e"
             ],
             [
              0.4444444444444444,
              "#bd3786"
             ],
             [
              0.5555555555555556,
              "#d8576b"
             ],
             [
              0.6666666666666666,
              "#ed7953"
             ],
             [
              0.7777777777777778,
              "#fb9f3a"
             ],
             [
              0.8888888888888888,
              "#fdca26"
             ],
             [
              1,
              "#f0f921"
             ]
            ],
            "type": "surface"
           }
          ],
          "table": [
           {
            "cells": {
             "fill": {
              "color": "#EBF0F8"
             },
             "line": {
              "color": "white"
             }
            },
            "header": {
             "fill": {
              "color": "#C8D4E3"
             },
             "line": {
              "color": "white"
             }
            },
            "type": "table"
           }
          ]
         },
         "layout": {
          "annotationdefaults": {
           "arrowcolor": "#2a3f5f",
           "arrowhead": 0,
           "arrowwidth": 1
          },
          "autotypenumbers": "strict",
          "coloraxis": {
           "colorbar": {
            "outlinewidth": 0,
            "ticks": ""
           }
          },
          "colorscale": {
           "diverging": [
            [
             0,
             "#8e0152"
            ],
            [
             0.1,
             "#c51b7d"
            ],
            [
             0.2,
             "#de77ae"
            ],
            [
             0.3,
             "#f1b6da"
            ],
            [
             0.4,
             "#fde0ef"
            ],
            [
             0.5,
             "#f7f7f7"
            ],
            [
             0.6,
             "#e6f5d0"
            ],
            [
             0.7,
             "#b8e186"
            ],
            [
             0.8,
             "#7fbc41"
            ],
            [
             0.9,
             "#4d9221"
            ],
            [
             1,
             "#276419"
            ]
           ],
           "sequential": [
            [
             0,
             "#0d0887"
            ],
            [
             0.1111111111111111,
             "#46039f"
            ],
            [
             0.2222222222222222,
             "#7201a8"
            ],
            [
             0.3333333333333333,
             "#9c179e"
            ],
            [
             0.4444444444444444,
             "#bd3786"
            ],
            [
             0.5555555555555556,
             "#d8576b"
            ],
            [
             0.6666666666666666,
             "#ed7953"
            ],
            [
             0.7777777777777778,
             "#fb9f3a"
            ],
            [
             0.8888888888888888,
             "#fdca26"
            ],
            [
             1,
             "#f0f921"
            ]
           ],
           "sequentialminus": [
            [
             0,
             "#0d0887"
            ],
            [
             0.1111111111111111,
             "#46039f"
            ],
            [
             0.2222222222222222,
             "#7201a8"
            ],
            [
             0.3333333333333333,
             "#9c179e"
            ],
            [
             0.4444444444444444,
             "#bd3786"
            ],
            [
             0.5555555555555556,
             "#d8576b"
            ],
            [
             0.6666666666666666,
             "#ed7953"
            ],
            [
             0.7777777777777778,
             "#fb9f3a"
            ],
            [
             0.8888888888888888,
             "#fdca26"
            ],
            [
             1,
             "#f0f921"
            ]
           ]
          },
          "colorway": [
           "#636efa",
           "#EF553B",
           "#00cc96",
           "#ab63fa",
           "#FFA15A",
           "#19d3f3",
           "#FF6692",
           "#B6E880",
           "#FF97FF",
           "#FECB52"
          ],
          "font": {
           "color": "#2a3f5f"
          },
          "geo": {
           "bgcolor": "white",
           "lakecolor": "white",
           "landcolor": "#E5ECF6",
           "showlakes": true,
           "showland": true,
           "subunitcolor": "white"
          },
          "hoverlabel": {
           "align": "left"
          },
          "hovermode": "closest",
          "mapbox": {
           "style": "light"
          },
          "paper_bgcolor": "white",
          "plot_bgcolor": "#E5ECF6",
          "polar": {
           "angularaxis": {
            "gridcolor": "white",
            "linecolor": "white",
            "ticks": ""
           },
           "bgcolor": "#E5ECF6",
           "radialaxis": {
            "gridcolor": "white",
            "linecolor": "white",
            "ticks": ""
           }
          },
          "scene": {
           "xaxis": {
            "backgroundcolor": "#E5ECF6",
            "gridcolor": "white",
            "gridwidth": 2,
            "linecolor": "white",
            "showbackground": true,
            "ticks": "",
            "zerolinecolor": "white"
           },
           "yaxis": {
            "backgroundcolor": "#E5ECF6",
            "gridcolor": "white",
            "gridwidth": 2,
            "linecolor": "white",
            "showbackground": true,
            "ticks": "",
            "zerolinecolor": "white"
           },
           "zaxis": {
            "backgroundcolor": "#E5ECF6",
            "gridcolor": "white",
            "gridwidth": 2,
            "linecolor": "white",
            "showbackground": true,
            "ticks": "",
            "zerolinecolor": "white"
           }
          },
          "shapedefaults": {
           "line": {
            "color": "#2a3f5f"
           }
          },
          "ternary": {
           "aaxis": {
            "gridcolor": "white",
            "linecolor": "white",
            "ticks": ""
           },
           "baxis": {
            "gridcolor": "white",
            "linecolor": "white",
            "ticks": ""
           },
           "bgcolor": "#E5ECF6",
           "caxis": {
            "gridcolor": "white",
            "linecolor": "white",
            "ticks": ""
           }
          },
          "title": {
           "x": 0.05
          },
          "xaxis": {
           "automargin": true,
           "gridcolor": "white",
           "linecolor": "white",
           "ticks": "",
           "title": {
            "standoff": 15
           },
           "zerolinecolor": "white",
           "zerolinewidth": 2
          },
          "yaxis": {
           "automargin": true,
           "gridcolor": "white",
           "linecolor": "white",
           "ticks": "",
           "title": {
            "standoff": 15
           },
           "zerolinecolor": "white",
           "zerolinewidth": 2
          }
         }
        },
        "title": {
         "text": "Porcentagem dos tipos de aminoácidos"
        }
       }
      },
      "text/html": [
       "<div>                            <div id=\"e7333234-ace4-4a19-8fa2-2158e9388510\" class=\"plotly-graph-div\" style=\"height:525px; width:100%;\"></div>            <script type=\"text/javascript\">                require([\"plotly\"], function(Plotly) {                    window.PLOTLYENV=window.PLOTLYENV || {};                                    if (document.getElementById(\"e7333234-ace4-4a19-8fa2-2158e9388510\")) {                    Plotly.newPlot(                        \"e7333234-ace4-4a19-8fa2-2158e9388510\",                        [{\"hole\":0.4,\"labels\":[\"Hidrof\\u00f3bico\",\"Hidrof\\u00edlico neutro\",\"Hidrof\\u00edlico negativo\",\"Hidrof\\u00edlico positivo\",\"Outros\"],\"values\":[1750,1024,418,509,0],\"type\":\"pie\"}],                        {\"template\":{\"data\":{\"histogram2dcontour\":[{\"type\":\"histogram2dcontour\",\"colorbar\":{\"outlinewidth\":0,\"ticks\":\"\"},\"colorscale\":[[0.0,\"#0d0887\"],[0.1111111111111111,\"#46039f\"],[0.2222222222222222,\"#7201a8\"],[0.3333333333333333,\"#9c179e\"],[0.4444444444444444,\"#bd3786\"],[0.5555555555555556,\"#d8576b\"],[0.6666666666666666,\"#ed7953\"],[0.7777777777777778,\"#fb9f3a\"],[0.8888888888888888,\"#fdca26\"],[1.0,\"#f0f921\"]]}],\"choropleth\":[{\"type\":\"choropleth\",\"colorbar\":{\"outlinewidth\":0,\"ticks\":\"\"}}],\"histogram2d\":[{\"type\":\"histogram2d\",\"colorbar\":{\"outlinewidth\":0,\"ticks\":\"\"},\"colorscale\":[[0.0,\"#0d0887\"],[0.1111111111111111,\"#46039f\"],[0.2222222222222222,\"#7201a8\"],[0.3333333333333333,\"#9c179e\"],[0.4444444444444444,\"#bd3786\"],[0.5555555555555556,\"#d8576b\"],[0.6666666666666666,\"#ed7953\"],[0.7777777777777778,\"#fb9f3a\"],[0.8888888888888888,\"#fdca26\"],[1.0,\"#f0f921\"]]}],\"heatmap\":[{\"type\":\"heatmap\",\"colorbar\":{\"outlinewidth\":0,\"ticks\":\"\"},\"colorscale\":[[0.0,\"#0d0887\"],[0.1111111111111111,\"#46039f\"],[0.2222222222222222,\"#7201a8\"],[0.3333333333333333,\"#9c179e\"],[0.4444444444444444,\"#bd3786\"],[0.5555555555555556,\"#d8576b\"],[0.6666666666666666,\"#ed7953\"],[0.7777777777777778,\"#fb9f3a\"],[0.8888888888888888,\"#fdca26\"],[1.0,\"#f0f921\"]]}],\"heatmapgl\":[{\"type\":\"heatmapgl\",\"colorbar\":{\"outlinewidth\":0,\"ticks\":\"\"},\"colorscale\":[[0.0,\"#0d0887\"],[0.1111111111111111,\"#46039f\"],[0.2222222222222222,\"#7201a8\"],[0.3333333333333333,\"#9c179e\"],[0.4444444444444444,\"#bd3786\"],[0.5555555555555556,\"#d8576b\"],[0.6666666666666666,\"#ed7953\"],[0.7777777777777778,\"#fb9f3a\"],[0.8888888888888888,\"#fdca26\"],[1.0,\"#f0f921\"]]}],\"contourcarpet\":[{\"type\":\"contourcarpet\",\"colorbar\":{\"outlinewidth\":0,\"ticks\":\"\"}}],\"contour\":[{\"type\":\"contour\",\"colorbar\":{\"outlinewidth\":0,\"ticks\":\"\"},\"colorscale\":[[0.0,\"#0d0887\"],[0.1111111111111111,\"#46039f\"],[0.2222222222222222,\"#7201a8\"],[0.3333333333333333,\"#9c179e\"],[0.4444444444444444,\"#bd3786\"],[0.5555555555555556,\"#d8576b\"],[0.6666666666666666,\"#ed7953\"],[0.7777777777777778,\"#fb9f3a\"],[0.8888888888888888,\"#fdca26\"],[1.0,\"#f0f921\"]]}],\"surface\":[{\"type\":\"surface\",\"colorbar\":{\"outlinewidth\":0,\"ticks\":\"\"},\"colorscale\":[[0.0,\"#0d0887\"],[0.1111111111111111,\"#46039f\"],[0.2222222222222222,\"#7201a8\"],[0.3333333333333333,\"#9c179e\"],[0.4444444444444444,\"#bd3786\"],[0.5555555555555556,\"#d8576b\"],[0.6666666666666666,\"#ed7953\"],[0.7777777777777778,\"#fb9f3a\"],[0.8888888888888888,\"#fdca26\"],[1.0,\"#f0f921\"]]}],\"mesh3d\":[{\"type\":\"mesh3d\",\"colorbar\":{\"outlinewidth\":0,\"ticks\":\"\"}}],\"scatter\":[{\"fillpattern\":{\"fillmode\":\"overlay\",\"size\":10,\"solidity\":0.2},\"type\":\"scatter\"}],\"parcoords\":[{\"type\":\"parcoords\",\"line\":{\"colorbar\":{\"outlinewidth\":0,\"ticks\":\"\"}}}],\"scatterpolargl\":[{\"type\":\"scatterpolargl\",\"marker\":{\"colorbar\":{\"outlinewidth\":0,\"ticks\":\"\"}}}],\"bar\":[{\"error_x\":{\"color\":\"#2a3f5f\"},\"error_y\":{\"color\":\"#2a3f5f\"},\"marker\":{\"line\":{\"color\":\"#E5ECF6\",\"width\":0.5},\"pattern\":{\"fillmode\":\"overlay\",\"size\":10,\"solidity\":0.2}},\"type\":\"bar\"}],\"scattergeo\":[{\"type\":\"scattergeo\",\"marker\":{\"colorbar\":{\"outlinewidth\":0,\"ticks\":\"\"}}}],\"scatterpolar\":[{\"type\":\"scatterpolar\",\"marker\":{\"colorbar\":{\"outlinewidth\":0,\"ticks\":\"\"}}}],\"histogram\":[{\"marker\":{\"pattern\":{\"fillmode\":\"overlay\",\"size\":10,\"solidity\":0.2}},\"type\":\"histogram\"}],\"scattergl\":[{\"type\":\"scattergl\",\"marker\":{\"colorbar\":{\"outlinewidth\":0,\"ticks\":\"\"}}}],\"scatter3d\":[{\"type\":\"scatter3d\",\"line\":{\"colorbar\":{\"outlinewidth\":0,\"ticks\":\"\"}},\"marker\":{\"colorbar\":{\"outlinewidth\":0,\"ticks\":\"\"}}}],\"scattermapbox\":[{\"type\":\"scattermapbox\",\"marker\":{\"colorbar\":{\"outlinewidth\":0,\"ticks\":\"\"}}}],\"scatterternary\":[{\"type\":\"scatterternary\",\"marker\":{\"colorbar\":{\"outlinewidth\":0,\"ticks\":\"\"}}}],\"scattercarpet\":[{\"type\":\"scattercarpet\",\"marker\":{\"colorbar\":{\"outlinewidth\":0,\"ticks\":\"\"}}}],\"carpet\":[{\"aaxis\":{\"endlinecolor\":\"#2a3f5f\",\"gridcolor\":\"white\",\"linecolor\":\"white\",\"minorgridcolor\":\"white\",\"startlinecolor\":\"#2a3f5f\"},\"baxis\":{\"endlinecolor\":\"#2a3f5f\",\"gridcolor\":\"white\",\"linecolor\":\"white\",\"minorgridcolor\":\"white\",\"startlinecolor\":\"#2a3f5f\"},\"type\":\"carpet\"}],\"table\":[{\"cells\":{\"fill\":{\"color\":\"#EBF0F8\"},\"line\":{\"color\":\"white\"}},\"header\":{\"fill\":{\"color\":\"#C8D4E3\"},\"line\":{\"color\":\"white\"}},\"type\":\"table\"}],\"barpolar\":[{\"marker\":{\"line\":{\"color\":\"#E5ECF6\",\"width\":0.5},\"pattern\":{\"fillmode\":\"overlay\",\"size\":10,\"solidity\":0.2}},\"type\":\"barpolar\"}],\"pie\":[{\"automargin\":true,\"type\":\"pie\"}]},\"layout\":{\"autotypenumbers\":\"strict\",\"colorway\":[\"#636efa\",\"#EF553B\",\"#00cc96\",\"#ab63fa\",\"#FFA15A\",\"#19d3f3\",\"#FF6692\",\"#B6E880\",\"#FF97FF\",\"#FECB52\"],\"font\":{\"color\":\"#2a3f5f\"},\"hovermode\":\"closest\",\"hoverlabel\":{\"align\":\"left\"},\"paper_bgcolor\":\"white\",\"plot_bgcolor\":\"#E5ECF6\",\"polar\":{\"bgcolor\":\"#E5ECF6\",\"angularaxis\":{\"gridcolor\":\"white\",\"linecolor\":\"white\",\"ticks\":\"\"},\"radialaxis\":{\"gridcolor\":\"white\",\"linecolor\":\"white\",\"ticks\":\"\"}},\"ternary\":{\"bgcolor\":\"#E5ECF6\",\"aaxis\":{\"gridcolor\":\"white\",\"linecolor\":\"white\",\"ticks\":\"\"},\"baxis\":{\"gridcolor\":\"white\",\"linecolor\":\"white\",\"ticks\":\"\"},\"caxis\":{\"gridcolor\":\"white\",\"linecolor\":\"white\",\"ticks\":\"\"}},\"coloraxis\":{\"colorbar\":{\"outlinewidth\":0,\"ticks\":\"\"}},\"colorscale\":{\"sequential\":[[0.0,\"#0d0887\"],[0.1111111111111111,\"#46039f\"],[0.2222222222222222,\"#7201a8\"],[0.3333333333333333,\"#9c179e\"],[0.4444444444444444,\"#bd3786\"],[0.5555555555555556,\"#d8576b\"],[0.6666666666666666,\"#ed7953\"],[0.7777777777777778,\"#fb9f3a\"],[0.8888888888888888,\"#fdca26\"],[1.0,\"#f0f921\"]],\"sequentialminus\":[[0.0,\"#0d0887\"],[0.1111111111111111,\"#46039f\"],[0.2222222222222222,\"#7201a8\"],[0.3333333333333333,\"#9c179e\"],[0.4444444444444444,\"#bd3786\"],[0.5555555555555556,\"#d8576b\"],[0.6666666666666666,\"#ed7953\"],[0.7777777777777778,\"#fb9f3a\"],[0.8888888888888888,\"#fdca26\"],[1.0,\"#f0f921\"]],\"diverging\":[[0,\"#8e0152\"],[0.1,\"#c51b7d\"],[0.2,\"#de77ae\"],[0.3,\"#f1b6da\"],[0.4,\"#fde0ef\"],[0.5,\"#f7f7f7\"],[0.6,\"#e6f5d0\"],[0.7,\"#b8e186\"],[0.8,\"#7fbc41\"],[0.9,\"#4d9221\"],[1,\"#276419\"]]},\"xaxis\":{\"gridcolor\":\"white\",\"linecolor\":\"white\",\"ticks\":\"\",\"title\":{\"standoff\":15},\"zerolinecolor\":\"white\",\"automargin\":true,\"zerolinewidth\":2},\"yaxis\":{\"gridcolor\":\"white\",\"linecolor\":\"white\",\"ticks\":\"\",\"title\":{\"standoff\":15},\"zerolinecolor\":\"white\",\"automargin\":true,\"zerolinewidth\":2},\"scene\":{\"xaxis\":{\"backgroundcolor\":\"#E5ECF6\",\"gridcolor\":\"white\",\"linecolor\":\"white\",\"showbackground\":true,\"ticks\":\"\",\"zerolinecolor\":\"white\",\"gridwidth\":2},\"yaxis\":{\"backgroundcolor\":\"#E5ECF6\",\"gridcolor\":\"white\",\"linecolor\":\"white\",\"showbackground\":true,\"ticks\":\"\",\"zerolinecolor\":\"white\",\"gridwidth\":2},\"zaxis\":{\"backgroundcolor\":\"#E5ECF6\",\"gridcolor\":\"white\",\"linecolor\":\"white\",\"showbackground\":true,\"ticks\":\"\",\"zerolinecolor\":\"white\",\"gridwidth\":2}},\"shapedefaults\":{\"line\":{\"color\":\"#2a3f5f\"}},\"annotationdefaults\":{\"arrowcolor\":\"#2a3f5f\",\"arrowhead\":0,\"arrowwidth\":1},\"geo\":{\"bgcolor\":\"white\",\"landcolor\":\"#E5ECF6\",\"subunitcolor\":\"white\",\"showland\":true,\"showlakes\":true,\"lakecolor\":\"white\"},\"title\":{\"x\":0.05},\"mapbox\":{\"style\":\"light\"}}},\"title\":{\"text\":\"Porcentagem dos tipos de amino\\u00e1cidos\"},\"annotations\":[{\"showarrow\":false,\"text\":\"Amino\\u00e1cidos\",\"x\":0.5,\"y\":0.5,\"font\":{\"size\":20}}]},                        {\"responsive\": true}                    ).then(function(){\n",
       "                            \n",
       "var gd = document.getElementById('e7333234-ace4-4a19-8fa2-2158e9388510');\n",
       "var x = new MutationObserver(function (mutations, observer) {{\n",
       "        var display = window.getComputedStyle(gd).display;\n",
       "        if (!display || display === 'none') {{\n",
       "            console.log([gd, 'removed!']);\n",
       "            Plotly.purge(gd);\n",
       "            observer.disconnect();\n",
       "        }}\n",
       "}});\n",
       "\n",
       "// Listen for the removal of the full notebook cells\n",
       "var notebookContainer = gd.closest('#notebook-container');\n",
       "if (notebookContainer) {{\n",
       "    x.observe(notebookContainer, {childList: true});\n",
       "}}\n",
       "\n",
       "// Listen for the clearing of the current output cell\n",
       "var outputEl = gd.closest('.output');\n",
       "if (outputEl) {{\n",
       "    x.observe(outputEl, {childList: true});\n",
       "}}\n",
       "\n",
       "                        })                };                });            </script>        </div>"
      ]
     },
     "metadata": {},
     "output_type": "display_data"
    }
   ],
   "source": [
    "# Exemplo\n",
    "COD1 = '''1 acgcttaaca accagatcaa agaaaaaaca gacagcgtca atggcagagc aaaaatgtaa\n",
    "       61 cacctctaca atggatgccg acaagattgt attcaaagtc aataatcagg tggtctcttt\n",
    "      121 gaagcctgag attatcgtgg atcaatatga gtacaagtac cctgccatca aagatttgaa\n",
    "      181 aaagccctgt ataactctag gaaaggctcc cgatttaaat aaagcataca agtcagtttt\n",
    "      241 atcatgcatg agcgccgcca aacttgatcc tgacgatgta tgttcctatt tggcggcggc\n",
    "      301 aatgcagttt tttgagggga catgtccgga agactggacc agctatggaa tcgtgattgc\n",
    "      361 acgaaaagga gataagatca ccccaggttc tctggtggag ataaaacgta ctgatgtaga\n",
    "      421 agggaattgg gctctgacag gaggcatgga actgacaaga gaccccactg tccctgagca\n",
    "      481 tgcgtcctta gtcggtcttc tcttgagtct gtataggttg agcaaaatat ccgggcaaag\n",
    "      541 cactggtaac tataagacaa acattgcaga caggatagag cagatttttg agacagcccc\n",
    "      601 ttttgttaaa atcgtggaac accatactct aatgacaact cacaaaatgt gtgctaattg\n",
    "      661 gagtactata ccaaacttca gatttttggc cggaacctat gacatgtttt tctcccggat\n",
    "      721 tgagcatcta tattcagcaa tcagagtggg cacagttgtc actgcttatg aagactgttc\n",
    "      781 aggactggtg tcatttactg ggttcataaa acaaatcaat ctcaccgcta gagaggcaat\n",
    "      841 actatatttc ttccacaaga actttgagga agagataaga agaatgtttg agccagggca\n",
    "      901 ggagacagct gttcctcact cttatttcat ccacttccgt tcactaggct tgagtgggaa\n",
    "      961 atctccttat tcatcaaatg ctgttggtca cgtgttcaat ctcattcact ttgtaggatg\n",
    "     1021 ctatatgggt caagtcagat ccctaaatgc aacggttatt gctgcatgtg ctcctcatga\n",
    "     1081 aatgtctgtt ctagggggct atctgggaga ggaattcttc gggaaaggga catttgaaag\n",
    "     1141 aagattcttc agagatgaga aagaacttca agaatacgag gcggctgaac tgacaaagac\n",
    "     1201 tgacgtagca ctggcagatg atggaactgt caactctgac gacgaggact acttctcagg\n",
    "     1261 tgaaaccaga agtccggaag ctgtttatac tcgaatcata atgaatggag gtcgactgaa\n",
    "     1321 gagatcgcac atacggagat atgtctcagt cagttccaat catcaagctc gtccaaactc\n",
    "     1381 attcgccgag tttctaaaca agacatattc gagtgactca taagaagttg aataacaaaa\n",
    "     1441 tgccggaaat ctacggattg tgtatatcca tcatgaaaaa aactaacacc cctcctttcg\n",
    "     1501 aaccacccca aacatgagca agatctttgt caatcctagt gctattagag ccggtctggc\n",
    "     1561 cgatcttgag atggctgaag aaactgttga tctgatcaat agaaatatcg aagacaatca\n",
    "     1621 ggctcatctc caaggggaac ccatagaagt ggacaatctc cctgaggata tggggcgact\n",
    "     1681 tcacctggat gatggaaaat cgcccaaccc tggtgagatg gccaaggtgg gagaaggcaa\n",
    "     1741 gtatcgagag gactttcaga tggatgaagg agaggatcct agcctcctgt tccagtcata\n",
    "     1801 cctggacaat gttggagtcc aaatagtcag acaaataagg tcaggagaga gatttctcaa\n",
    "     1861 gatatggtca cagaccgtag aagagattat atcctatgtc gcggtcaact ttcccaaccc\n",
    "     1921 tccaggaaag tcttcagagg ataaatcaac ccagactacc ggccgagagc tcaagaagga\n",
    "     1981 gacaacaccc actccttctc agagagaaag ccaatcctcg aaagccagga tggcggctca\n",
    "     2041 aactgcttct ggccctccag cccttgaatg gtcggccacc aatgaagagg atgatctatc\n",
    "     2101 agtggaggct gagatcgctc accagattgc agaaagtttc tccaaaaaat ataagtttcc\n",
    "     2161 ctctcgatcc tcagggatac tcttgtataa ttttgagcaa ttgaaaatga accttgatga\n",
    "     2221 tatagttaaa gaggcaaaaa atgtaccagg tgtgacccgt ttagcccgtg acgggtccaa\n",
    "     2281 actcccccta agatgtgtac tgggatgggt cgccttggcc aactctaaga aattccagtt\n",
    "     2341 gttagtcgaa tccaacaagc tgagtaaaat catgcaagat gacttgaatc gctatacatc\n",
    "     2401 ttgctaaccg aacctctcca ctcagtccct ctagacaata aagtccgaga tgtcctaaag\n",
    "     2461 tcaacatgaa aaaaacaggc aacaccactg ataaaatgaa ctttctacgt aagatagtga\n",
    "     2521 aaaattgcag ggacgaggac actcaaaaac cctctcccgt gtcagcccct ctggatgacg\n",
    "     2581 atgacttgtg gcttccaccc cctgaatacg tcccgctaaa agaacttaca agcaagaaga\n",
    "     2641 acaggaggaa cttttgtatc aacggagggg ttaaagtgtg tagcccgaat ggttactcgt\n",
    "     2701 tcgggatcct gcggcacatt ctgagatcat tcgacgagat atattctggg aatcatagga\n",
    "     2761 tggtcgggtt agtcaaagta gttattggac tggctttgtc aggagctcca gtccctgagg\n",
    "     2821 gcatgaactg ggtatacaag ttgaggagaa cccttatctt ccagtgggct gattccaggg\n",
    "     2881 gccctcttga aggggaggag ttggaatact ctcaggagat cacttgggat gataatactg\n",
    "     2941 agttcgtcgg attgcaaata agagtgagtg caaaacagtg tcatatccgg ggcagaatct\n",
    "     3001 ggtgtatcaa catgaactcg agagcaggtc aactatggtc tgacatgtct cttcagacac\n",
    "     3061 aaaggtccga agaggacaaa gattcctctc tgcttctaga ataatcagat tatatcccgc\n",
    "     3121 aaatttatca cttgtttacc tctggaggag agaacatatg ggctcaactc caacccttgg\n",
    "     3181 gggcaatata acaaaaaaac atgttatggt gccattaaac cgctgcattt catcaaagtc\n",
    "     3241 aagttaatta cctttacatt ttgatcctct tggatgtgaa aaaaactatt aacatccctc\n",
    "     3301 aaaagactca aggaaagatg gttcctcagg ctctcctgtt tgtacccctt ctggtttttc\n",
    "     3361 cattgtgttt tgggaaattc cctatttaca cgataccaga caagcttggt ccctggagcc\n",
    "     3421 cgattgacat acatcacctc agctgcccaa acaatttggt agtggaggac gaaggatgca\n",
    "     3481 ccaacctgtc agggttctcc tacatggaac ttaaagttgg atacatctca gccataaaaa\n",
    "     3541 tgaacgggtt cacttgcaca ggcgttgtga cggaggctga aacctacact aacttcgttg\n",
    "     3601 gttatgtcac aaccacgttc aaaagaaagc atttccgccc aacaccagat gcatgtagag\n",
    "     3661 ccgcgtacaa ctggaagatg gccggtgacc ccagatatga agagtctcta cacaatccgt\n",
    "     3721 accctgacta ccactggctt cgaactgtaa aaaccaccaa ggagtctctc gttatcatat\n",
    "     3781 ctccaagtgt ggcagatttg gacccatatg acagatccct tcactcgagg gtcttccctg\n",
    "     3841 gcgggaattg ctcaggagta gcggtgtctt ctacctactg ctccactaac cacgattaca\n",
    "     3901 ccatttggat gcccgagaat ccgagactag ggatgtcttg tgacattttt accaatagta\n",
    "     3961 gagggaagag agcatccaaa gggagtgaga cttgcggctt tgtagatgaa agaggcctat\n",
    "     4021 ataagtcttt aaaaggagca tgcaaactca agttatgtgg agttctagga cttagactta\n",
    "     4081 tggatggaac atgggtcgcg atgcaaacat caaatgaaac caaatggtgc cctcccggtc\n",
    "     4141 agttggtgaa tttgcacgac tttcgctcag acgaaattga gcaccttgtt gtagaggagt\n",
    "     4201 tggtcaagaa gagagaggag tgtctggatg cactagagtc catcatgacc accaagtcag\n",
    "     4261 tgagtttcag acgtctcagt catttaagaa aacttgtccc tgggtttgga aaagcatata\n",
    "     4321 ccatattcaa caagaccttg atggaagccg atgctcacta caagtcagtc agaacttgga\n",
    "     4381 atgagatcat cccttcaaaa gggtgtttaa gagttggggg gaggtgtcat cctcatgtaa\n",
    "     4441 acggggtatt tttcaatggt ataatattag gacctgacgg caatgtctta atcccagaga\n",
    "     4501 tgcaatcatc cctcctccag caacatatgg agttgttggt atcctcggtt atccccctta\n",
    "     4561 tgcaccccct ggcagacccg tctaccgttt tcaagaacgg tgacgaggct gaggattttg\n",
    "     4621 ttgaagttca ccttcccgat gtgcacgaac ggatctcagg agttgacttg ggtctcccga\n",
    "     4681 actgggggaa gtatgtatta ctgagtgcag gggccctgac tgccttgatg ttgataattt\n",
    "     4741 tcctgatgac atgctggaga agagtcaatc gatcggaacc tacacaacac aatctcagag\n",
    "     4801 ggacagggag ggaggtgtca gtcactcccc aaagcgggaa gatcatatct tcatgggaat\n",
    "     4861 catacaagag cgggggtgag accggactgt gagagctggc cgtcctttca acgatccaag\n",
    "     4921 tcctgaagat cacctcccct tggggggttc tttttgaaaa aaaacctggg ttcaatagtc\n",
    "     4981 ctccttgaac tccatgcaac tgggtagatt caagagtcat gagattttca ttaatcctct\n",
    "     5041 cagttgatca agcaagatca tgtagattct cataataggg gagatcttct agcagtttca\n",
    "     5101 gtgactaacg gtgctttcat tctccaggaa ctgacaccaa cagttgtaga caaatcacgg\n",
    "     5161 ggtgtctcag gtgattctgc gcttgggcac agacaaaggt catggtgtgt tccatgatag\n",
    "     5221 cggactcagg atgagttaat tgagagaggc aatcttcctc ccgtgaagga cacaagcagt\n",
    "     5281 agctcacaat catctcgtgt ttcagcaaag tgtgcataat tataaagtgc tgggtcatct\n",
    "     5341 aagcttttca gtcgagaaaa aaacagtaga tcagaagaac aactggcaac acttctcatc\n",
    "     5401 ctgagaccta cttcaagatg ctcgatcctg gagaggtcta tgatgaccct attgacccaa\n",
    "     5461 tcgagttaga ggctgaaccc agaggaaccc ccactgtccc caacatcttg aggaactctg\n",
    "     5521 actacaatct caactctcct ttgatagaag atcctgctag actaatgtta gaatggttaa\n",
    "     5581 aaacagggaa tagaccttat cggatgactc taacagacaa ttgctccagg tctttcagag\n",
    "     5641 ttttgaaaga ttatttcaag aaggtagatt tgggttccct caaggtgggc ggaatggctg\n",
    "     5701 cacagtcaat gatttctctc tggttatatg gtgcccactc tgaatccaac aggagccgga\n",
    "     5761 gatgtataac agacttggcc catttctatt ccaagtcgtc ccccatagag aagctgttaa\n",
    "     5821 atctcacgct aggaaataga gggctgagaa tccccccaga gggagtgtta agttgccttg\n",
    "     5881 agagggttga ttatgataat gcatttggaa ggtatcttgc caacacgtat tcctcttact\n",
    "     5941 tgttcttcca tgtaatcacc ttatacatga acgccctaga ctgggatgaa gaaaagacca\n",
    "     6001 tcctagcatt atggaaagat ttaacctcag tggacatcgg gaaggacttg gtaaagttca\n",
    "     6061 aagaccaaat atggggactg ctgatcgtga caaaggactt tgtttactcc caaagttcca\n",
    "     6121 attgtctttt tgacagaaac tacacactta tgctaaaaga tcttttcttg tctcgcttca\n",
    "     6181 actccttaat ggtcttactt tctcccccag agccccgata ctcagatgac ttgatatctc\n",
    "     6241 agctatgcca gctgtacatt gctggggatc aagtcttgtc tatgtgtgga aactccggct\n",
    "     6301 atgaagtcat caaaatattg gagccatatg tcgtgaatag tttagtccag agagcagaaa\n",
    "     6361 agtttaggcc tctcattcat tccttgggag actttcctgt atttataaaa gacaaggtaa\n",
    "     6421 gtcaactcga agagacgttc ggttcctgtg caagaaggtt ctttagggct ctggatcaat\n",
    "     6481 tcgacaacat acatgacttg gtttttgtgt atggctgtta caggcattgg gggcacccat\n",
    "     6541 atatagatta tcgaaagggt ctgtcaaaac tatatgatca ggttcacatt aaaaaagtga\n",
    "     6601 tagataagtc ctaccaggag tgcttagcaa gcgacctagc caggaggatc cttagatggg\n",
    "     6661 gttttgataa gtactccaag tggtatctgg attcacgatt cctagcccga gaccacccct\n",
    "     6721 tgactcctta tatcaaaacc caaacatggc cacccaaaca tattgtagat ttggtggggg\n",
    "     6781 atacatggca caagctcccg atcacgcaaa tctttgagat tcctgaatca atggatccat\n",
    "     6841 cagaaatatt ggatgacaaa tcacattctt tcaccagaac gagactagct tcttggctgt\n",
    "     6901 cagaaaaccg aggggggcct gttcctagcg aaaaagttat tatcacggcc ctgtctaagc\n",
    "     6961 cgcctgtcaa tccccgagag tttctgaagt ctatagacct cggaggattg ccagatgaag\n",
    "     7021 acttgataat tggcctcaag ccaaaggaac gggaattgaa gattgaaggt cgattctttg\n",
    "     7081 ctctaatgtc atggaatcta agattgtatt ttgtcatcac tgaaaaactc ttggccaact\n",
    "     7141 acatcttgcc actttttgac gcgctgacta tgacagacaa cctgaacaag gtgtttaaaa\n",
    "     7201 agctgatcga cagggtcacc gggcaagggc ttctggacta ttcaagggtc acatatgcat\n",
    "     7261 ttcacctgga ctatgaaaag tggaacaacc atcaaagatt agagtcaaca gaggatgtat\n",
    "     7321 tttctgtcct agatcaagtg tttggattga agagagtgtt ttctagaaca cacgagtttt\n",
    "     7381 ttcagaagtc ctggatctat tattcagaca gatcagacct catcgggtta cgggaggatc\n",
    "     7441 aaatatactg cttagatgcg tccaacggcc caacctgttg gaatggccag gatggcgggc\n",
    "     7501 tagaaggctt acggcagaag ggctggagtc tagtcagctt attgatgata gatagagaat\n",
    "     7561 ctcaaatcag gaacacaaga accaaagtac tagctcaagg agacaaccag gttttatgtc\n",
    "     7621 cgacatatat gttgtcgcca gggctatctc aagaggggct cctctatgaa ttggagagca\n",
    "     7681 tatcaaggaa tgcattttcg atatacagag ccgtcgagga aggggcatct aaactagggc\n",
    "     7741 tgatcatcaa gaaagaagag accatgtgta gttatgactt cctcatctat ggaaaaaccc\n",
    "     7801 ctttgtttag aggtaacata ttggtgcctg agtccaaaag atgggccaga gtctcttgcg\n",
    "     7861 tctctaatga ccaaatagtc aacctcgcca atataatgtc gacagtgtcc accaacgcgc\n",
    "     7921 taacagtggc acaacactct caatctttga tcaaaccgat gagggatttt ctgctcatgt\n",
    "     7981 cagtacaggc agtctttcac tacctgctat ttagcccaat cttaaaggga agagtttaca\n",
    "     8041 agattctgag cgctgaaggg gagagctttc tcctagccat gtcaaggata atctatctag\n",
    "     8101 atccttcttt gggaggggta tctggaatgt ccctcggaag attccatata cgacagttct\n",
    "     8161 cagaccctgt ctctgaaggg ttatccttct ggagagagat ctggttaagc tcccacgagt\n",
    "     8221 cctggattca cgcgttgtgt caagaggctg gaaacccaga tcttggagag agaacactcg\n",
    "     8281 agagcttcac tcgccttcta gaagatccta ccaccttaaa tatcagagga ggggccagtc\n",
    "     8341 ctaccattct actcaaggat gcaatcagaa aggctttata tgacgaggtg gacaaggtgg\n",
    "     8401 agaactcaga gtttcgagag gcaatcctgt tgtccaagac ccatagagat aattttatac\n",
    "     8461 tcttcttaac atctgttgag cctctgtttc ctcgatttct cagtgagcta ttcagttcgt\n",
    "     8521 cttttttggg aatccccgag tcaatcattg gactgataca aaactcccga acgataagaa\n",
    "     8581 ggcagtttag aaagagtctc tcaaaaactt tagaagaatc cttctacaac tcagagatcc\n",
    "     8641 acgggattag tcggatgacc cagacacctc agagggttgg gggggtgtgg ccttgctctt\n",
    "     8701 cagagagggc agatctactt agggagatct cttggggaag aaaagtggta ggcacgacag\n",
    "     8761 ttcctcaccc ttctgagatg ttggggttac ttcccaagtc ctctatttct tgcacttgtg\n",
    "     8821 gagcaacagg aggaggcaat cctagagttt ctgtatcagt actcccgtct tttgatcagt\n",
    "     8881 catttttttg cacggggccc ctaaaggggt acttgggctc gtccacctct atgtcgaccc\n",
    "     8941 agctattcca tgcatgggaa aaagtcacta atgttcatgt ggtgaagaga gctctatcgt\n",
    "     9001 taaaagaatc tataaactgg ttcattacta gagattccaa cttggctcaa actctaatta\n",
    "     9061 ggaacattgt gtctctgaca ggccctgatt tccctctaga ggaggcccct gttttcaaaa\n",
    "     9121 ggacggggtc agccttgcat aggttcaagt ctgccagata cagcgaagga gggtattctt\n",
    "     9181 ctgtatgccc gaacctcctc tctcatattt ctgttagtac agacaccatg tctgatttga\n",
    "     9241 cccaagacgg gaagaactac gatttcatgt tccagccatt gatgctttat gcacagacat\n",
    "     9301 ggacatcaga gctggtacag agagacacaa ggctaagaga ctctacgttt cattggcacc\n",
    "     9361 tccaatgcaa caggtgtgtg agacccattg acgacgtgac cctggagacc tctcagatct\n",
    "     9421 tcgagtttcc ggatgtgtcg aaaagaatat ccagaatggt ttctggggct gtgcctcact\n",
    "     9481 tccagaggct tcccgatatc cgtctgagac caggagattt tgaatctcta agcggtagag\n",
    "     9541 aaaagtctca ccatatcgga tcagctcagg ggctcttata ctcaatctta gtggcaattc\n",
    "     9601 acgactcagg atacaatgat ggaaccatct tccctgtcaa catatacggc aaggtttccc\n",
    "     9661 ctagagacta tttgagaggg ctcgcaaggg gagtattgat aggatcctcg atttgcttct\n",
    "     9721 tgacgagaat gacaaatatc aatattaata gacctcttga attgatctca ggggtaatct\n",
    "     9781 catatattct cctgaggcta gataaccatc cctccttgta cataatgctc agagaaccgt\n",
    "     9841 cttttagaga agagatattt tctatccctc agaaaatccc cgccgcttat ccaaccacta\n",
    "     9901 tgaaagaagg caacagatca atcttgtgtt atctccaaca tgtgctacgc tatgagcgag\n",
    "     9961 aggtaatcac ggcgtctcca gagaatgact ggctatggat cttttcagac tttagaagtg\n",
    "    10021 ccaaaatgac gtacctaacc ctcattactt accagtctca tcttctactc cagagggttg\n",
    "    10081 agagaaacct atctaagagt atgagagata acctgcgaca attgagttcc ttgatgaggc\n",
    "    10141 aggtgctggg cgggcacgga gaagatacct tagagtcaga cgacaacatt caacgactac\n",
    "    10201 taaaagactc tttacgaagg acaagatggg tggatcaaga ggtgcgccat gcagctagaa\n",
    "    10261 ccatgactgg agattacagc cccaacaaga aggtgtcccg taaggtagga tgttcagaat\n",
    "    10321 gggtctgctc tgctcaacag gttgcagtct ctacctcagc aaacccggcc cctgtctcgg\n",
    "    10381 agcttgacat aagggccctc tctaagaggt tccagaaccc tttgatctcg ggcttgagag\n",
    "    10441 tggttcagtg ggcaaccggt gctcattata agcttaagcc tattctagat gatctcaatg\n",
    "    10501 ttttcccatc tctctgcctt gtagttgggg acgggtcagg ggggatatca agggcagtcc\n",
    "    10561 tcaacatgtt tccagatgcc aagcttgtgt tcaacagtct tttagaggtg aatgacctga\n",
    "    10621 tggcttccgg aacacatcca ctgcctcctt cagcaatcat gaggggagga aatgatatcg\n",
    "    10681 tctccagagt gatagatttt gactcaatct gggaaaaacc gtccgacttg agaaacttgg\n",
    "    10741 ctacctggaa atacttccag tcagtccaaa agcaggtcaa catgtcctat gacctcatta\n",
    "    10801 tttgcgatgc agaagttact gacattgcat ctatcaaccg gataaccctg ttaatgtccg\n",
    "    10861 attttgcatt gtctatagat ggaccactct atttggtctt caaaacttat gggactatgc\n",
    "    10921 tagtaaatcc aaactacaag gctattcaac acctgtcaag agcgttcccc tcggtcacag\n",
    "    10981 ggtttatcac ccaagtaact tcgtcttttt catctgagct ctaccttcga ttctccaaac\n",
    "    11041 gagggaagtt tttcagagat gctgagtact tgacctcttc cacccttcga gaaatgagcc\n",
    "    11101 ttgtgttatt caattgtagc agccccaaga gtgagatgca gagagctcgt tccttgaact\n",
    "    11161 atcaggatct tgtgagagga tttcctgaag aaatcatatc aaatccttac aatgagatga\n",
    "    11221 tcataactct gattgacagt gatgtagaat cttttctagt ccacaagatg gtggatgatc\n",
    "    11281 ttgagttaca gaggggaact ctgtctaaag tggctatcat tatagccatc atgatagttt\n",
    "    11341 tctccaacag agtcttcaac gtttccaaac ccctaactga ccccttgttc tatccaccgt\n",
    "    11401 ctgatcccaa aatcctgagg cacttcaaca tatgttgcag tactatgatg tatctatcta\n",
    "    11461 ctgctttagg tgacgtccct agcttcgcaa gacttcacga cctgtataac agacctataa\n",
    "    11521 cttattactt cagaaagcaa gtcattctag ggaacgttta tctatcttgg agttggtcca\n",
    "    11581 acgacacctc agtgttcaaa agggtagcct gtaattctag cctgagtctg tcatctcact\n",
    "    11641 ggatcaggtt gatttacaag atagtgaaga ctaccagact cgttggcagc atcaaggatc\n",
    "    11701 tatccggaga agtggaaaga caccttcata ggtacaacag gtggatcacc ctagagaata\n",
    "    11761 tcagatctag atcatcccta ctagactaca gttgcctgtg catcggatac tcctggaagc\n",
    "    11821 ctgcccatgc taagactctt gtgtgatgta ttttgaaaaa aacaagatct taaatctgaa\n",
    "    11881 cctctagttg tttgattgtt tttctcattt ttgttgttta tttgttaagc gt'''\n",
    "\n",
    "a = genome_identifier(COD1, isTimine=True)"
   ]
  }
 ],
 "metadata": {
  "kernelspec": {
   "display_name": "ilumpy",
   "language": "python",
   "name": "ilumpy"
  },
  "language_info": {
   "codemirror_mode": {
    "name": "ipython",
    "version": 3
   },
   "file_extension": ".py",
   "mimetype": "text/x-python",
   "name": "python",
   "nbconvert_exporter": "python",
   "pygments_lexer": "ipython3",
   "version": "3.11.6"
  }
 },
 "nbformat": 4,
 "nbformat_minor": 5
}
